{
  "cells": [
    {
      "cell_type": "markdown",
      "metadata": {
        "id": "view-in-github",
        "colab_type": "text"
      },
      "source": [
        "<a href=\"https://colab.research.google.com/github/SaquibKhan-DS/311-Customer-Service-Optimization/blob/main/notebooks/03_response_time_analysis.ipynb\" target=\"_parent\"><img src=\"https://colab.research.google.com/assets/colab-badge.svg\" alt=\"Open In Colab\"/></a>"
      ]
    },
    {
      "cell_type": "code",
      "source": [
        "# 03_response_time_analysis.ipynb\n",
        "\n",
        "# -----------------------------\n",
        "# Notebook 03: Response Time Analysis\n",
        "# -----------------------------\n",
        "# This notebook calculates response times for complaints,\n",
        "# analyzes average times by complaint type, handles anomalies,\n",
        "# and applies transformations for statistical analysis.\n",
        "# -----------------------------\n",
        "\n",
        "# Import required libraries\n",
        "import pandas as pd\n",
        "import numpy as np\n",
        "import matplotlib.pyplot as plt"
      ],
      "metadata": {
        "id": "NUZHAPdE1sDd"
      },
      "id": "NUZHAPdE1sDd",
      "execution_count": null,
      "outputs": []
    },
    {
      "cell_type": "code",
      "source": [
        "# -----------------------------\n",
        "# Step 1: Load dataset\n",
        "# -----------------------------\n",
        "df = pd.read_csv('/kaggle/input/311-service-requests-nyc/311_Service_Requests_from_2010_to_Present.csv')\n",
        "\n",
        "# Convert date columns to datetime\n",
        "df['created_dt'] = pd.to_datetime(df['Created Date'], errors='coerce')\n",
        "df['closed_dt'] = pd.to_datetime(df['Closed Date'], errors='coerce')\n",
        "\n",
        "# Keep only rows with valid 'Closed Date'\n",
        "df = df[df['Closed Date'].notna()]"
      ],
      "metadata": {
        "id": "dFSIe82T1r7T"
      },
      "id": "dFSIe82T1r7T",
      "execution_count": null,
      "outputs": []
    },
    {
      "cell_type": "code",
      "source": [
        "# -----------------------------\n",
        "# Step 2: Calculate elapsed time\n",
        "# -----------------------------\n",
        "# Elapsed time in seconds\n",
        "df['elapsed_time'] = df['closed_dt'] - df['created_dt']\n",
        "df['elapsed_time_sec'] = df['elapsed_time'] / np.timedelta64(1, 's')\n",
        "\n",
        "# Summary statistics\n",
        "df['elapsed_time_sec'].describe()\n",
        "\n",
        "# Elapsed time in minutes for easier interpretation\n",
        "df['elapsed_time_min'] = df['elapsed_time'] / np.timedelta64(1, 'm')"
      ],
      "metadata": {
        "id": "oZxS4pvX1r3t"
      },
      "id": "oZxS4pvX1r3t",
      "execution_count": null,
      "outputs": []
    },
    {
      "cell_type": "code",
      "source": [
        "# -----------------------------\n",
        "# Step 3: Average response time by complaint type\n",
        "# -----------------------------\n",
        "df_mrt = df.groupby('Complaint Type')['elapsed_time_min'].mean().fillna(0).to_frame()\n",
        "\n",
        "# Plot average response time by complaint type\n",
        "df_mrt.plot(kind='bar', figsize=(20,10))\n",
        "plt.title('Average Response Time VS Complaint Type')\n",
        "plt.xlabel('Complaint Type')\n",
        "plt.ylabel('Average Response Time in Minutes')\n",
        "plt.show()"
      ],
      "metadata": {
        "id": "39o8KC2k1r0T"
      },
      "id": "39o8KC2k1r0T",
      "execution_count": null,
      "outputs": []
    },
    {
      "cell_type": "code",
      "source": [
        "# -----------------------------\n",
        "# Step 4: Handle extreme anomaly\n",
        "# -----------------------------\n",
        "# Example: \"Animal in a Park\" has only one entry with unusually high time\n",
        "df[df['Complaint Type'] == 'Animal in a Park']\n",
        "df.drop(labels=283132, axis=0, inplace=True)\n",
        "\n",
        "# Recalculate after removing anomaly\n",
        "df_mrt = df.groupby('Complaint Type')['elapsed_time_min'].mean().fillna(0).to_frame()\n",
        "df_mrt.plot(kind='bar', figsize=(20, 10))\n",
        "plt.title('Average Response Time by Complaint Type')\n",
        "plt.xlabel('Complaint Type')\n",
        "plt.ylabel('Average Response Time in Minutes')\n",
        "plt.show()"
      ],
      "metadata": {
        "id": "Go2yix4o1rxB"
      },
      "id": "Go2yix4o1rxB",
      "execution_count": null,
      "outputs": []
    },
    {
      "cell_type": "code",
      "source": [
        "# -----------------------------\n",
        "# Step 5: Histograms of response times by complaint type\n",
        "# -----------------------------\n",
        "for t in df['Complaint Type'].unique():\n",
        "    df[df['Complaint Type'] == t]['elapsed_time_sec'].hist(range=(0,5000))\n",
        "    plt.title('Response Time by Complaint Type')\n",
        "    plt.xlabel(t)\n",
        "    plt.ylabel('Response Time in Seconds')\n",
        "    plt.show()"
      ],
      "metadata": {
        "id": "qJk0kGUV1ruX"
      },
      "id": "qJk0kGUV1ruX",
      "execution_count": null,
      "outputs": []
    },
    {
      "cell_type": "code",
      "source": [
        "# -----------------------------\n",
        "# Step 6: Log transformation for normalizing distributions\n",
        "# -----------------------------\n",
        "df_ct = {}\n",
        "for t in df['Complaint Type'].unique():\n",
        "    df_ct[t] = np.log(df[df['Complaint Type'] == t]['elapsed_time_sec'])\n",
        "\n",
        "# Plot histograms of log-transformed times\n",
        "for t in df['Complaint Type'].unique():\n",
        "    df_ct[t].hist()\n",
        "    plt.title('Log-Transformed Response Time by Complaint Type')\n",
        "    plt.xlabel(t)\n",
        "    plt.ylabel('Frequency')\n",
        "    plt.show()"
      ],
      "metadata": {
        "id": "hqKsE-MT1rrc"
      },
      "id": "hqKsE-MT1rrc",
      "execution_count": null,
      "outputs": []
    },
    {
      "cell_type": "code",
      "source": [
        "# -----------------------------\n",
        "# Step 7: Average response time by city\n",
        "# -----------------------------\n",
        "for c in df['City'].unique():\n",
        "    print(c)\n",
        "    print(df[df['City'] == c]['elapsed_time_sec'].mean())"
      ],
      "metadata": {
        "id": "B53v5uO410YJ"
      },
      "id": "B53v5uO410YJ",
      "execution_count": null,
      "outputs": []
    }
  ],
  "metadata": {
    "colab": {
      "provenance": [],
      "include_colab_link": true
    }
  },
  "nbformat": 4,
  "nbformat_minor": 5
}