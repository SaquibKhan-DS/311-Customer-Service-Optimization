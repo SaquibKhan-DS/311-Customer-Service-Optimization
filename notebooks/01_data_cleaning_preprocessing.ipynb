{
  "cells": [
    {
      "cell_type": "markdown",
      "metadata": {
        "id": "view-in-github",
        "colab_type": "text"
      },
      "source": [
        "<a href=\"https://colab.research.google.com/github/SaquibKhan-DS/311-Customer-Service-Optimization/blob/main/notebooks/01_data_cleaning_preprocessing.ipynb\" target=\"_parent\"><img src=\"https://colab.research.google.com/assets/colab-badge.svg\" alt=\"Open In Colab\"/></a>"
      ]
    },
    {
      "cell_type": "code",
      "source": [
        "# 01_data_cleaning_preprocessing.ipynb\n",
        "\n",
        "# -----------------------------\n",
        "# Notebook 01: Data Cleaning & Preprocessing\n",
        "# -----------------------------\n",
        "# This notebook loads the dataset, inspects it,\n",
        "# handles missing values, drops irrelevant columns,\n",
        "# and ensures correct data formats for analysis.\n",
        "# -----------------------------\n",
        "\n",
        "# Import required libraries\n",
        "import pandas as pd\n",
        "import numpy as np\n",
        "import matplotlib.pyplot as plt"
      ],
      "metadata": {
        "id": "rVRsVQkCzXVK"
      },
      "id": "rVRsVQkCzXVK",
      "execution_count": null,
      "outputs": []
    },
    {
      "cell_type": "code",
      "source": [
        "# -----------------------------\n",
        "# Step 1: Load dataset\n",
        "# -----------------------------\n",
        "# Make sure the dataset path is correct before running.\n",
        "# Replace with your local path or cloud path if needed.\n",
        "df = pd.read_csv('/kaggle/input/311-service-requests-nyc/311_Service_Requests_from_2010_to_Present.csv')\n",
        "\n",
        "# Preview first 5 rows\n",
        "df.head(5)"
      ],
      "metadata": {
        "id": "M8lSpx4hzdIh"
      },
      "id": "M8lSpx4hzdIh",
      "execution_count": null,
      "outputs": []
    },
    {
      "cell_type": "code",
      "source": [
        "# -----------------------------\n",
        "# Step 2: Basic dataset overview\n",
        "# -----------------------------\n",
        "df.shape        # Number of rows and columns\n",
        "df.info()       # Data types and non-null counts\n",
        "df.columns      # List all column names"
      ],
      "metadata": {
        "id": "5TunvhohzgZc"
      },
      "id": "5TunvhohzgZc",
      "execution_count": null,
      "outputs": []
    },
    {
      "cell_type": "code",
      "source": [
        "# -----------------------------\n",
        "# Step 3: Missing values check\n",
        "# -----------------------------\n",
        "df.isna().sum()     # Count missing values in each column\n",
        "df.isna().all()     # Check if entire columns are missing\n",
        "\n",
        "# Identify variables where all values are NaN\n",
        "nan_variables = df[df.columns[df.isna().all()]]\n",
        "nan_variables\n",
        "\n",
        "# Drop columns that have all values as NaN\n",
        "df = df.dropna(axis=1, how='all')\n",
        "df.info()"
      ],
      "metadata": {
        "id": "oDF6kMs3zifL"
      },
      "id": "oDF6kMs3zifL",
      "execution_count": null,
      "outputs": []
    },
    {
      "cell_type": "code",
      "source": [
        "# -----------------------------\n",
        "# Step 4: Visualizing missing values\n",
        "# -----------------------------\n",
        "null_count = df.isnull().sum()\n",
        "null_count.plot(kind='bar', figsize=(20,10))\n",
        "plt.title(\"Null Count\")\n",
        "plt.xlabel('Variable')\n",
        "plt.ylabel('Frequency')\n",
        "plt.show()"
      ],
      "metadata": {
        "id": "ezuliZLEzick"
      },
      "id": "ezuliZLEzick",
      "execution_count": null,
      "outputs": []
    },
    {
      "cell_type": "code",
      "source": [
        "# -----------------------------\n",
        "# Step 5: Removing rows with missing 'Closed Date'\n",
        "# -----------------------------\n",
        "len(df[df['Closed Date'].isna()])  # Check number of rows missing Closed Date\n",
        "len(df)                            # Original number of rows\n",
        "\n",
        "# Keep only rows where 'Closed Date' is present\n",
        "df = df[df['Closed Date'].notna()]\n",
        "len(df)"
      ],
      "metadata": {
        "id": "N48gkpSKziZz"
      },
      "id": "N48gkpSKziZz",
      "execution_count": null,
      "outputs": []
    },
    {
      "cell_type": "code",
      "source": [
        "# -----------------------------\n",
        "# Step 6: Date column conversion\n",
        "# -----------------------------\n",
        "df['created_dt'] = pd.to_datetime(df['Created Date'])\n",
        "df['closed_dt'] = pd.to_datetime(df['Closed Date'])\n",
        "\n",
        "# Check for incorrect timelines (Created Date > Closed Date)\n",
        "df.query('created_dt > closed_dt')"
      ],
      "metadata": {
        "id": "aiRerSHiziXM"
      },
      "id": "aiRerSHiziXM",
      "execution_count": null,
      "outputs": []
    },
    {
      "cell_type": "code",
      "source": [
        "# -----------------------------\n",
        "# Step 7: Handling missing City values\n",
        "# -----------------------------\n",
        "df['Complaint Type'].isna().sum()\n",
        "df['City'].isna().sum()\n",
        "\n",
        "# Replace missing city names with 'Unknown City'\n",
        "df['City'] = df.apply(lambda x: 'Unknown City' if pd.isnull(x['City']) else x['City'], axis=1)\n",
        "df['City'].isna().sum()"
      ],
      "metadata": {
        "id": "ExSkc0AKziUa"
      },
      "id": "ExSkc0AKziUa",
      "execution_count": null,
      "outputs": []
    },
    {
      "cell_type": "code",
      "source": [
        "# -----------------------------\n",
        "# Step 8: Complaints per city\n",
        "# -----------------------------\n",
        "df_city = df.groupby(['City']).size()\n",
        "df_city\n",
        "\n",
        "df_city.plot(kind='bar', figsize=(20,10))\n",
        "plt.title('Complaint in each City')\n",
        "plt.xlabel('Complaint')\n",
        "plt.ylabel('Count')\n",
        "plt.show()"
      ],
      "metadata": {
        "id": "XLWzr77iziPq"
      },
      "id": "XLWzr77iziPq",
      "execution_count": null,
      "outputs": []
    }
  ],
  "metadata": {
    "colab": {
      "provenance": [],
      "include_colab_link": true
    },
    "language_info": {
      "name": "python"
    },
    "kernelspec": {
      "name": "python3",
      "display_name": "Python 3"
    }
  },
  "nbformat": 4,
  "nbformat_minor": 5
}