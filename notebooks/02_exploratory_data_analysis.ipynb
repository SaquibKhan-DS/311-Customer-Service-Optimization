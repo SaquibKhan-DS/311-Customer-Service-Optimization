{
  "cells": [
    {
      "cell_type": "markdown",
      "metadata": {
        "id": "view-in-github",
        "colab_type": "text"
      },
      "source": [
        "<a href=\"https://colab.research.google.com/github/SaquibKhan-DS/311-Customer-Service-Optimization/blob/main/notebooks/02_exploratory_data_analysis.ipynb\" target=\"_parent\"><img src=\"https://colab.research.google.com/assets/colab-badge.svg\" alt=\"Open In Colab\"/></a>"
      ]
    },
    {
      "cell_type": "code",
      "source": [
        "# 02_exploratory_data_analysis.ipynb\n",
        "\n",
        "# -----------------------------\n",
        "# Notebook 02: Exploratory Data Analysis\n",
        "# -----------------------------\n",
        "# This notebook focuses on analyzing complaint patterns,\n",
        "# identifying top complaint types, and examining city-level distributions.\n",
        "# -----------------------------\n",
        "\n",
        "# Import required libraries\n",
        "import pandas as pd\n",
        "import numpy as np\n",
        "import matplotlib.pyplot as plt"
      ],
      "metadata": {
        "id": "zNL6KpwJ0V_0"
      },
      "id": "zNL6KpwJ0V_0",
      "execution_count": null,
      "outputs": []
    },
    {
      "cell_type": "code",
      "source": [
        "# -----------------------------\n",
        "# Step 1: Load dataset\n",
        "# -----------------------------\n",
        "df = pd.read_csv('/kaggle/input/311-service-requests-nyc/311_Service_Requests_from_2010_to_Present.csv')\n",
        "\n",
        "# Convert dates for later use\n",
        "df['created_dt'] = pd.to_datetime(df['Created Date'], errors='coerce')\n",
        "df['closed_dt'] = pd.to_datetime(df['Closed Date'], errors='coerce')\n",
        "\n",
        "# Keep only rows where 'Closed Date' exists\n",
        "df = df[df['Closed Date'].notna()]\n",
        "\n",
        "# Fill missing city names\n",
        "df['City'] = df.apply(lambda x: 'Unknown City' if pd.isnull(x['City']) else x['City'], axis=1)"
      ],
      "metadata": {
        "id": "1_6Dd5Y-0V86"
      },
      "id": "1_6Dd5Y-0V86",
      "execution_count": null,
      "outputs": []
    },
    {
      "cell_type": "code",
      "source": [
        "# -----------------------------\n",
        "# Step 2: Filter specific city for concentration study (Brooklyn example)\n",
        "# -----------------------------\n",
        "df_brooklyn = df.loc[df['City'] == 'BROOKLYN']\n",
        "\n",
        "# Scatter plot of complaints in Brooklyn by location\n",
        "df_brooklyn[['Latitude','Longitude']].plot(\n",
        "    kind='scatter',\n",
        "    figsize=(15,10),\n",
        "    x='Longitude',\n",
        "    y='Latitude',\n",
        "    title='Complaint Concentration Across BROOKLYN'\n",
        ")\n",
        "plt.xlabel('Latitude in Degrees')\n",
        "plt.ylabel('Longitude in Degrees')\n",
        "\n",
        "# Hexbin plot of complaints in Brooklyn\n",
        "df_brooklyn[['Latitude','Longitude']].plot(\n",
        "    kind='hexbin',\n",
        "    figsize=(15,10),\n",
        "    colormap='Paired',\n",
        "    mincnt=1,\n",
        "    x='Longitude',\n",
        "    y='Latitude',\n",
        "    gridsize=25,\n",
        "    title='Complaint Concentration Across BROOKLYN'\n",
        ")\n",
        "plt.xlabel('Latitude in Degrees')\n",
        "plt.ylabel('Longitude in Degrees')"
      ],
      "metadata": {
        "id": "8oh1dtdI0V6M"
      },
      "id": "8oh1dtdI0V6M",
      "execution_count": null,
      "outputs": []
    },
    {
      "cell_type": "code",
      "source": [
        "# -----------------------------\n",
        "# Step 3: Complaint type analysis\n",
        "# -----------------------------\n",
        "df['Complaint Type'].unique()       # List of unique complaint types\n",
        "df['Complaint Type'].value_counts() # Frequency of each complaint type\n",
        "\n",
        "# Plot overall complaint type distribution\n",
        "df['Complaint Type'].value_counts().plot(kind='bar', figsize=(20, 10))\n",
        "plt.title('Complaint Type VS Count')\n",
        "plt.xlabel(\"Complaint Type\")\n",
        "plt.ylabel(\"Count\")"
      ],
      "metadata": {
        "id": "uStju-pA0V3J"
      },
      "id": "uStju-pA0V3J",
      "execution_count": null,
      "outputs": []
    },
    {
      "cell_type": "code",
      "source": [
        "# -----------------------------\n",
        "# Step 4: City-specific complaint analysis\n",
        "# -----------------------------\n",
        "df_ny = df.loc[df['City'] == \"NEW YORK\"]\n",
        "\n",
        "# Count and plot complaints in New York\n",
        "df_ny['Complaint Type'].value_counts().plot(kind='bar', figsize=(20,10))\n",
        "plt.title('Count by Complaint Type for New York')\n",
        "plt.xlabel('Complaint Type')\n",
        "plt.ylabel('Count')\n",
        "plt.show()\n",
        "\n",
        "# Top 10 complaint types overall\n",
        "df_top10_ctypes = df.groupby(['Complaint Type']).size().nlargest(10)\n",
        "df_top10_ctypes"
      ],
      "metadata": {
        "id": "fC6rGvy20V0q"
      },
      "id": "fC6rGvy20V0q",
      "execution_count": null,
      "outputs": []
    },
    {
      "cell_type": "code",
      "source": [
        "# -----------------------------\n",
        "# Step 5: Complaint type plots for each city\n",
        "# -----------------------------\n",
        "city_list = df['City'].unique()\n",
        "for c in city_list:\n",
        "    df_c = df.loc[df['City'] == c]\n",
        "    df_c['Complaint Type'].value_counts().plot(kind='bar', figsize=(20,10))\n",
        "    plt.title(f'Count by Complaint Type for {c}')\n",
        "    plt.xlabel('Complaint Type')\n",
        "    plt.ylabel('Count')\n",
        "    plt.show()\n",
        "    print('================================================')"
      ],
      "metadata": {
        "id": "eQz9TLXZ0VyD"
      },
      "id": "eQz9TLXZ0VyD",
      "execution_count": null,
      "outputs": []
    },
    {
      "cell_type": "code",
      "source": [
        "# -----------------------------\n",
        "# Step 6: Stacked bar chart of complaints per city\n",
        "# -----------------------------\n",
        "df_complainttypes = df.groupby(['City','Complaint Type']).size().unstack().fillna(0)\n",
        "df_complainttypes.plot(kind='bar', figsize=(20,10), stacked=True, colormap='Paired')\n",
        "plt.ylabel('Number of Complaints')\n",
        "plt.title('Number of Complaints vs. City')"
      ],
      "metadata": {
        "id": "bM5uh1bH0Vvj"
      },
      "id": "bM5uh1bH0Vvj",
      "execution_count": null,
      "outputs": []
    }
  ],
  "metadata": {
    "colab": {
      "provenance": [],
      "include_colab_link": true
    },
    "language_info": {
      "name": "python"
    },
    "kernelspec": {
      "name": "python3",
      "display_name": "Python 3"
    }
  },
  "nbformat": 4,
  "nbformat_minor": 5
}