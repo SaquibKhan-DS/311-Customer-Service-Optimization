{
  "cells": [
    {
      "cell_type": "markdown",
      "metadata": {
        "id": "view-in-github",
        "colab_type": "text"
      },
      "source": [
        "<a href=\"https://colab.research.google.com/github/SaquibKhan-DS/311-Customer-Service-Optimization/blob/main/notebooks/04_business_insights_recommendations.ipynb\" target=\"_parent\"><img src=\"https://colab.research.google.com/assets/colab-badge.svg\" alt=\"Open In Colab\"/></a>"
      ]
    },
    {
      "cell_type": "code",
      "source": [
        "# 04_business_insights_recommendations.ipynb\n",
        "\n",
        "# -----------------------------\n",
        "# Notebook 04: Business Insights & Recommendations\n",
        "# -----------------------------\n",
        "# This notebook applies statistical tests, explores correlations,\n",
        "# and provides actionable insights from the 311 service request data.\n",
        "# -----------------------------\n",
        "\n",
        "# Import required libraries\n",
        "import pandas as pd\n",
        "import numpy as np\n",
        "import matplotlib.pyplot as plt\n",
        "from scipy import stats"
      ],
      "metadata": {
        "id": "_sNgn49C2P6p"
      },
      "id": "_sNgn49C2P6p",
      "execution_count": null,
      "outputs": []
    },
    {
      "cell_type": "code",
      "source": [
        "# -----------------------------\n",
        "# Step 1: Load dataset\n",
        "# -----------------------------\n",
        "df = pd.read_csv('/kaggle/input/311-service-requests-nyc/311_Service_Requests_from_2010_to_Present.csv')\n",
        "\n",
        "# Convert date columns\n",
        "df['created_dt'] = pd.to_datetime(df['Created Date'], errors='coerce')\n",
        "df['closed_dt'] = pd.to_datetime(df['Closed Date'], errors='coerce')\n",
        "\n",
        "# Filter for valid Closed Dates\n",
        "df = df[df['Closed Date'].notna()]\n",
        "\n",
        "# Calculate elapsed time\n",
        "df['elapsed_time'] = df['closed_dt'] - df['created_dt']\n",
        "df['elapsed_time_sec'] = df['elapsed_time'] / np.timedelta64(1, 's')"
      ],
      "metadata": {
        "id": "gSeX4ZHN2P4C"
      },
      "id": "gSeX4ZHN2P4C",
      "execution_count": null,
      "outputs": []
    },
    {
      "cell_type": "code",
      "source": [
        "# -----------------------------\n",
        "# Step 2: Prepare dataset for correlation analysis\n",
        "# -----------------------------\n",
        "df_loc = df[['Complaint Type', 'Location', 'City', 'Borough']]\n",
        "\n",
        "# Convert object columns to numerical codes for correlation\n",
        "cat_columns = df_loc.describe(include=\"O\").columns\n",
        "for col in cat_columns:\n",
        "    df_loc[col] = df_loc[col].astype(\"category\").cat.codes\n",
        "\n",
        "# Pearson correlation\n",
        "cor = df_loc.corr(method='pearson')\n",
        "print(\"Correlation Matrix:\")\n",
        "print(cor)"
      ],
      "metadata": {
        "id": "XfEw3Ik62P1d"
      },
      "id": "XfEw3Ik62P1d",
      "execution_count": null,
      "outputs": []
    },
    {
      "cell_type": "code",
      "source": [
        "# -----------------------------\n",
        "# Step 3: Chi-square test of independence\n",
        "# -----------------------------\n",
        "# Contingency table of complaint type vs city\n",
        "df_ct = pd.crosstab(df['Complaint Type'], df['City'], margins=True)\n",
        "\n",
        "chi2, p, dof, ex = stats.chi2_contingency(df_ct)\n",
        "print(f\"Chi-square value: {chi2}\")\n",
        "print(f\"P-value: {p}\")\n",
        "print(f\"Degrees of freedom: {dof}\")\n",
        "print(\"Expected frequencies table:\")\n",
        "print(ex)\n",
        "\n",
        "# Insight: If p-value < 0.05, Complaint Type and City are dependent\n",
        "if p < 0.05:\n",
        "    print(\"Result: Complaint Type and City are NOT independent.\")\n",
        "else:\n",
        "    print(\"Result: Complaint Type and City are independent.\")"
      ],
      "metadata": {
        "id": "RM2USusO2Pyw"
      },
      "id": "RM2USusO2Pyw",
      "execution_count": null,
      "outputs": []
    },
    {
      "cell_type": "code",
      "source": [
        "# -----------------------------\n",
        "# Step 4: Kruskal-Wallis test for comparing response times\n",
        "# -----------------------------\n",
        "# Create list of elapsed_time_sec arrays grouped by complaint type\n",
        "l = []\n",
        "for t in df['Complaint Type'].unique():\n",
        "    l.append(df[df['Complaint Type'] == t]['elapsed_time_sec'].values)\n",
        "\n",
        "# Perform test\n",
        "kruskal_result = stats.kruskal(*l)\n",
        "print(\"Kruskal-Wallis Test Result:\")\n",
        "print(kruskal_result)\n",
        "\n",
        "# Insight: If p-value < 0.05, average response times differ significantly across complaint types"
      ],
      "metadata": {
        "id": "t8bnvaDa2PwD"
      },
      "id": "t8bnvaDa2PwD",
      "execution_count": null,
      "outputs": []
    },
    {
      "cell_type": "code",
      "source": [
        "# -----------------------------\n",
        "# Step 5: Summary & Recommendations\n",
        "# -----------------------------\n",
        "# These should be adapted based on the statistical results\n",
        "print(\"\\n--- Business Insights ---\")\n",
        "print(\"1. Significant dependency exists between Complaint Type and City.\")\n",
        "print(\"2. Average response times vary significantly by complaint type (confirmed by Kruskal-Wallis).\")\n",
        "print(\"3. Certain complaint categories take disproportionately long to resolve, indicating process bottlenecks.\")\n",
        "print(\"4. Resource allocation can be optimized by focusing on top complaint types in high-volume cities.\")\n",
        "\n",
        "print(\"\\n--- Recommendations ---\")\n",
        "print(\"• Prioritize high-volume complaint types in cities with the slowest average response times.\")\n",
        "print(\"• Investigate process improvements for complaint types with the largest delays.\")\n",
        "print(\"• Deploy targeted awareness campaigns in boroughs with recurring complaints to reduce load.\")"
      ],
      "metadata": {
        "id": "Jc_2b-ce2Pts"
      },
      "id": "Jc_2b-ce2Pts",
      "execution_count": null,
      "outputs": []
    }
  ],
  "metadata": {
    "colab": {
      "provenance": [],
      "include_colab_link": true
    }
  },
  "nbformat": 4,
  "nbformat_minor": 5
}